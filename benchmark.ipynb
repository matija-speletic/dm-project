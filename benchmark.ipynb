{
 "cells": [
  {
   "cell_type": "code",
   "execution_count": 1,
   "metadata": {},
   "outputs": [
    {
     "ename": "SyntaxError",
     "evalue": "invalid syntax (1898754215.py, line 36)",
     "output_type": "error",
     "traceback": [
      "\u001b[1;36m  Cell \u001b[1;32mIn[1], line 36\u001b[1;36m\u001b[0m\n\u001b[1;33m    labeled_data = # Prepare your labeled data with normal and anomaly points\u001b[0m\n\u001b[1;37m                   ^\u001b[0m\n\u001b[1;31mSyntaxError\u001b[0m\u001b[1;31m:\u001b[0m invalid syntax\n"
     ]
    }
   ],
   "source": [
    "from adbench import datasets, classifiers\n",
    "from sklearn.metrics import precision_score, recall_score, f1_score\n",
    "\n",
    "# Define the anomaly detection algorithms (unsupervised and semi-supervised)\n",
    "unsupervised_algorithms = {\n",
    "    \"LOF\": classifiers.LOF(),\n",
    "    \"ABOD\": classifiers.ABOD(),\n",
    "    \"Isolation Forest\": classifiers.IsolationForest(),\n",
    "}\n",
    "semi_supervised_algorithms = {\n",
    "    \"Autoencoder\": classifiers.Autoencoder(),\n",
    "    \"LUNAR\": classifiers.LUNAR(),\n",
    "}\n",
    "\n",
    "# Load a dataset (replace 'your_dataset_name' with an appropriate dataset from adbench)\n",
    "dataset = datasets.load(name=\"your_dataset_name\")\n",
    "\n",
    "# Perform anomaly detection for unsupervised algorithms\n",
    "for name, algorithm in unsupervised_algorithms.items():\n",
    "    print(f\"Running {name} on {dataset.name}\")\n",
    "    predictions = algorithm.fit_predict(dataset.data)\n",
    "    ground_truth = dataset.target  # Assuming ground truth labels are available\n",
    "\n",
    "    # Evaluate the results using precision, recall, F1-score\n",
    "    precision = precision_score(ground_truth, predictions)\n",
    "    recall = recall_score(ground_truth, predictions)\n",
    "    f1 = f1_score(ground_truth, predictions)\n",
    "\n",
    "    print(f\"Evaluation Results ({name}):\")\n",
    "    print(f\"\\tPrecision: {precision:.4f}\")\n",
    "    print(f\"\\tRecall: {recall:.4f}\")\n",
    "    print(f\"\\tF1-score: {f1:.4f}\")\n",
    "    print(\"-\" * 30)  # Separator\n",
    "\n",
    "# Perform anomaly detection for semi-supervised algorithms (assuming labeled data is available)\n",
    "labeled_data = # Prepare your labeled data with normal and anomaly points\n",
    "for name, algorithm in semi_supervised_algorithms.items():\n",
    "    print(f\"Running {name} on {dataset.name}\")\n",
    "    predictions = algorithm.fit_predict(dataset.data, labeled_data)\n",
    "    ground_truth = dataset.target  # Assuming ground truth labels are available\n",
    "\n",
    "    # Evaluate the results using precision, recall, F1-score\n",
    "    precision = precision_score(ground_truth, predictions)\n",
    "    recall = recall_score(ground_truth, predictions)\n",
    "    f1 = f1_score(ground_truth, predictions)\n",
    "\n",
    "    print(f\"Evaluation Results ({name}):\")\n",
    "    print(f\"\\tPrecision: {precision:.4f}\")\n",
    "    print(f\"\\tRecall: {recall:.4f}\")\n",
    "    print(f\"\\tF1-score: {f1:.4f}\")\n",
    "    print(\"-\" * 30)  # Separator\n"
   ]
  },
  {
   "cell_type": "code",
   "execution_count": 7,
   "metadata": {},
   "outputs": [
    {
     "name": "stdout",
     "output_type": "stream",
     "text": [
      "Contents of X:\n",
      "[[2804  139    9 ...  238  135 6121]\n",
      " [2785  155   18 ...  238  122 6211]\n",
      " [2579  132    6 ...  237  140 6031]\n",
      " ...\n",
      " [2612   17   13 ...  211  138  644]\n",
      " [2610   16   14 ...  211  138  671]\n",
      " [2608   23   14 ...  209  131  698]]\n",
      "Contents of y:\n",
      "[0 0 0 ... 0 0 0]\n"
     ]
    },
    {
     "data": {
      "text/plain": [
       "(286048, 10)"
      ]
     },
     "execution_count": 7,
     "metadata": {},
     "output_type": "execute_result"
    }
   ],
   "source": [
    "import numpy as np\n",
    "\n",
    "dataset = np.load('10_cover.npz')\n",
    "dataset_keys = dataset.keys()\n",
    "for key in dataset_keys:\n",
    "    print(f\"Contents of {key}:\")\n",
    "    print(dataset[key])\n",
    "\n",
    "dataset['X'].shape"
   ]
  }
 ],
 "metadata": {
  "kernelspec": {
   "display_name": "Python 3",
   "language": "python",
   "name": "python3"
  },
  "language_info": {
   "codemirror_mode": {
    "name": "ipython",
    "version": 3
   },
   "file_extension": ".py",
   "mimetype": "text/x-python",
   "name": "python",
   "nbconvert_exporter": "python",
   "pygments_lexer": "ipython3",
   "version": "3.11.3"
  }
 },
 "nbformat": 4,
 "nbformat_minor": 2
}
